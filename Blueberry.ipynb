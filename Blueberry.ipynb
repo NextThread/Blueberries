{
 "cells": [
  {
   "cell_type": "markdown",
   "id": "619cd073",
   "metadata": {},
   "source": [
    "# Blueberry Yield\n",
    "\n",
    "This is a machine learning exercise using a wild blueberry crop yield dataset that I found on Kaggle (https://www.kaggle.com/datasets/saurabhshahane/wild-blueberry-yield-prediction).\n",
    "\n",
    "The objective is to use machine learning to predict crop yield based on a number of factors, such as the size of the bushes, how many bees are in the area, and various weather parameters.\n",
    "\n",
    "The first thing we do is import the data:"
   ]
  },
  {
   "cell_type": "code",
   "execution_count": 1,
   "id": "16f9406e",
   "metadata": {},
   "outputs": [],
   "source": [
    "%matplotlib inline\n",
    "import matplotlib.pyplot as plt\n",
    "import os\n",
    "import pandas as pd\n",
    "import numpy as np\n",
    "\n",
    "BLUEBERRY_FILENAME = 'WildBlueberryPollinationSimulationData.csv'\n",
    "RANDOM_STATE = 3\n",
    "    \n",
    "def load_blueberry_data(blueberry_path=BLUEBERRY_FILENAME):\n",
    "    csv_path = os.path.join('data', blueberry_path)\n",
    "    return pd.read_csv(csv_path)\n",
    "\n",
    "blueberries = load_blueberry_data()"
   ]
  },
  {
   "cell_type": "code",
   "execution_count": 2,
   "id": "f5defba3",
   "metadata": {},
   "outputs": [
    {
     "data": {
      "text/html": [
       "<div>\n",
       "<style scoped>\n",
       "    .dataframe tbody tr th:only-of-type {\n",
       "        vertical-align: middle;\n",
       "    }\n",
       "\n",
       "    .dataframe tbody tr th {\n",
       "        vertical-align: top;\n",
       "    }\n",
       "\n",
       "    .dataframe thead th {\n",
       "        text-align: right;\n",
       "    }\n",
       "</style>\n",
       "<table border=\"1\" class=\"dataframe\">\n",
       "  <thead>\n",
       "    <tr style=\"text-align: right;\">\n",
       "      <th></th>\n",
       "      <th>Row#</th>\n",
       "      <th>clonesize</th>\n",
       "      <th>honeybee</th>\n",
       "      <th>bumbles</th>\n",
       "      <th>andrena</th>\n",
       "      <th>osmia</th>\n",
       "      <th>MaxOfUpperTRange</th>\n",
       "      <th>MinOfUpperTRange</th>\n",
       "      <th>AverageOfUpperTRange</th>\n",
       "      <th>MaxOfLowerTRange</th>\n",
       "      <th>MinOfLowerTRange</th>\n",
       "      <th>AverageOfLowerTRange</th>\n",
       "      <th>RainingDays</th>\n",
       "      <th>AverageRainingDays</th>\n",
       "      <th>fruitset</th>\n",
       "      <th>fruitmass</th>\n",
       "      <th>seeds</th>\n",
       "      <th>yield</th>\n",
       "    </tr>\n",
       "  </thead>\n",
       "  <tbody>\n",
       "    <tr>\n",
       "      <th>0</th>\n",
       "      <td>0</td>\n",
       "      <td>37.5</td>\n",
       "      <td>0.75</td>\n",
       "      <td>0.25</td>\n",
       "      <td>0.25</td>\n",
       "      <td>0.25</td>\n",
       "      <td>86.0</td>\n",
       "      <td>52.0</td>\n",
       "      <td>71.9</td>\n",
       "      <td>62.0</td>\n",
       "      <td>30.0</td>\n",
       "      <td>50.8</td>\n",
       "      <td>16.0</td>\n",
       "      <td>0.26</td>\n",
       "      <td>0.410652</td>\n",
       "      <td>0.408159</td>\n",
       "      <td>31.678898</td>\n",
       "      <td>3813.165795</td>\n",
       "    </tr>\n",
       "    <tr>\n",
       "      <th>1</th>\n",
       "      <td>1</td>\n",
       "      <td>37.5</td>\n",
       "      <td>0.75</td>\n",
       "      <td>0.25</td>\n",
       "      <td>0.25</td>\n",
       "      <td>0.25</td>\n",
       "      <td>86.0</td>\n",
       "      <td>52.0</td>\n",
       "      <td>71.9</td>\n",
       "      <td>62.0</td>\n",
       "      <td>30.0</td>\n",
       "      <td>50.8</td>\n",
       "      <td>1.0</td>\n",
       "      <td>0.10</td>\n",
       "      <td>0.444254</td>\n",
       "      <td>0.425458</td>\n",
       "      <td>33.449385</td>\n",
       "      <td>4947.605663</td>\n",
       "    </tr>\n",
       "    <tr>\n",
       "      <th>2</th>\n",
       "      <td>2</td>\n",
       "      <td>37.5</td>\n",
       "      <td>0.75</td>\n",
       "      <td>0.25</td>\n",
       "      <td>0.25</td>\n",
       "      <td>0.25</td>\n",
       "      <td>94.6</td>\n",
       "      <td>57.2</td>\n",
       "      <td>79.0</td>\n",
       "      <td>68.2</td>\n",
       "      <td>33.0</td>\n",
       "      <td>55.9</td>\n",
       "      <td>16.0</td>\n",
       "      <td>0.26</td>\n",
       "      <td>0.383787</td>\n",
       "      <td>0.399172</td>\n",
       "      <td>30.546306</td>\n",
       "      <td>3866.798965</td>\n",
       "    </tr>\n",
       "    <tr>\n",
       "      <th>3</th>\n",
       "      <td>3</td>\n",
       "      <td>37.5</td>\n",
       "      <td>0.75</td>\n",
       "      <td>0.25</td>\n",
       "      <td>0.25</td>\n",
       "      <td>0.25</td>\n",
       "      <td>94.6</td>\n",
       "      <td>57.2</td>\n",
       "      <td>79.0</td>\n",
       "      <td>68.2</td>\n",
       "      <td>33.0</td>\n",
       "      <td>55.9</td>\n",
       "      <td>1.0</td>\n",
       "      <td>0.10</td>\n",
       "      <td>0.407564</td>\n",
       "      <td>0.408789</td>\n",
       "      <td>31.562586</td>\n",
       "      <td>4303.943030</td>\n",
       "    </tr>\n",
       "    <tr>\n",
       "      <th>4</th>\n",
       "      <td>4</td>\n",
       "      <td>37.5</td>\n",
       "      <td>0.75</td>\n",
       "      <td>0.25</td>\n",
       "      <td>0.25</td>\n",
       "      <td>0.25</td>\n",
       "      <td>86.0</td>\n",
       "      <td>52.0</td>\n",
       "      <td>71.9</td>\n",
       "      <td>62.0</td>\n",
       "      <td>30.0</td>\n",
       "      <td>50.8</td>\n",
       "      <td>24.0</td>\n",
       "      <td>0.39</td>\n",
       "      <td>0.354413</td>\n",
       "      <td>0.382703</td>\n",
       "      <td>28.873714</td>\n",
       "      <td>3436.493543</td>\n",
       "    </tr>\n",
       "  </tbody>\n",
       "</table>\n",
       "</div>"
      ],
      "text/plain": [
       "   Row#  clonesize  honeybee  bumbles  andrena  osmia  MaxOfUpperTRange  \\\n",
       "0     0       37.5      0.75     0.25     0.25   0.25              86.0   \n",
       "1     1       37.5      0.75     0.25     0.25   0.25              86.0   \n",
       "2     2       37.5      0.75     0.25     0.25   0.25              94.6   \n",
       "3     3       37.5      0.75     0.25     0.25   0.25              94.6   \n",
       "4     4       37.5      0.75     0.25     0.25   0.25              86.0   \n",
       "\n",
       "   MinOfUpperTRange  AverageOfUpperTRange  MaxOfLowerTRange  MinOfLowerTRange  \\\n",
       "0              52.0                  71.9              62.0              30.0   \n",
       "1              52.0                  71.9              62.0              30.0   \n",
       "2              57.2                  79.0              68.2              33.0   \n",
       "3              57.2                  79.0              68.2              33.0   \n",
       "4              52.0                  71.9              62.0              30.0   \n",
       "\n",
       "   AverageOfLowerTRange  RainingDays  AverageRainingDays  fruitset  fruitmass  \\\n",
       "0                  50.8         16.0                0.26  0.410652   0.408159   \n",
       "1                  50.8          1.0                0.10  0.444254   0.425458   \n",
       "2                  55.9         16.0                0.26  0.383787   0.399172   \n",
       "3                  55.9          1.0                0.10  0.407564   0.408789   \n",
       "4                  50.8         24.0                0.39  0.354413   0.382703   \n",
       "\n",
       "       seeds        yield  \n",
       "0  31.678898  3813.165795  \n",
       "1  33.449385  4947.605663  \n",
       "2  30.546306  3866.798965  \n",
       "3  31.562586  4303.943030  \n",
       "4  28.873714  3436.493543  "
      ]
     },
     "execution_count": 2,
     "metadata": {},
     "output_type": "execute_result"
    }
   ],
   "source": [
    "blueberries.head()"
   ]
  },
  {
   "cell_type": "code",
   "execution_count": 3,
   "id": "c5f83ff1",
   "metadata": {},
   "outputs": [
    {
     "data": {
      "text/plain": [
       "(777, 18)"
      ]
     },
     "execution_count": 3,
     "metadata": {},
     "output_type": "execute_result"
    }
   ],
   "source": [
    "blueberries.shape"
   ]
  },
  {
   "cell_type": "code",
   "execution_count": 4,
   "id": "a24a5699",
   "metadata": {},
   "outputs": [
    {
     "data": {
      "text/html": [
       "<div>\n",
       "<style scoped>\n",
       "    .dataframe tbody tr th:only-of-type {\n",
       "        vertical-align: middle;\n",
       "    }\n",
       "\n",
       "    .dataframe tbody tr th {\n",
       "        vertical-align: top;\n",
       "    }\n",
       "\n",
       "    .dataframe thead th {\n",
       "        text-align: right;\n",
       "    }\n",
       "</style>\n",
       "<table border=\"1\" class=\"dataframe\">\n",
       "  <thead>\n",
       "    <tr style=\"text-align: right;\">\n",
       "      <th></th>\n",
       "      <th>Row#</th>\n",
       "      <th>clonesize</th>\n",
       "      <th>honeybee</th>\n",
       "      <th>bumbles</th>\n",
       "      <th>andrena</th>\n",
       "      <th>osmia</th>\n",
       "      <th>MaxOfUpperTRange</th>\n",
       "      <th>MinOfUpperTRange</th>\n",
       "      <th>AverageOfUpperTRange</th>\n",
       "      <th>MaxOfLowerTRange</th>\n",
       "      <th>MinOfLowerTRange</th>\n",
       "      <th>AverageOfLowerTRange</th>\n",
       "      <th>RainingDays</th>\n",
       "      <th>AverageRainingDays</th>\n",
       "      <th>fruitset</th>\n",
       "      <th>fruitmass</th>\n",
       "      <th>seeds</th>\n",
       "      <th>yield</th>\n",
       "    </tr>\n",
       "  </thead>\n",
       "  <tbody>\n",
       "    <tr>\n",
       "      <th>count</th>\n",
       "      <td>777.000000</td>\n",
       "      <td>777.000000</td>\n",
       "      <td>777.000000</td>\n",
       "      <td>777.000000</td>\n",
       "      <td>777.000000</td>\n",
       "      <td>777.000000</td>\n",
       "      <td>777.000000</td>\n",
       "      <td>777.000000</td>\n",
       "      <td>777.000000</td>\n",
       "      <td>777.000000</td>\n",
       "      <td>777.000000</td>\n",
       "      <td>777.000000</td>\n",
       "      <td>777.000000</td>\n",
       "      <td>777.000000</td>\n",
       "      <td>777.000000</td>\n",
       "      <td>777.000000</td>\n",
       "      <td>777.000000</td>\n",
       "      <td>777.000000</td>\n",
       "    </tr>\n",
       "    <tr>\n",
       "      <th>mean</th>\n",
       "      <td>388.000000</td>\n",
       "      <td>18.767696</td>\n",
       "      <td>0.417133</td>\n",
       "      <td>0.282389</td>\n",
       "      <td>0.468817</td>\n",
       "      <td>0.562062</td>\n",
       "      <td>82.277091</td>\n",
       "      <td>49.700515</td>\n",
       "      <td>68.723037</td>\n",
       "      <td>59.309395</td>\n",
       "      <td>28.690219</td>\n",
       "      <td>48.613127</td>\n",
       "      <td>18.309292</td>\n",
       "      <td>0.320000</td>\n",
       "      <td>0.502121</td>\n",
       "      <td>0.445983</td>\n",
       "      <td>36.122432</td>\n",
       "      <td>6012.849165</td>\n",
       "    </tr>\n",
       "    <tr>\n",
       "      <th>std</th>\n",
       "      <td>224.444871</td>\n",
       "      <td>6.999063</td>\n",
       "      <td>0.978904</td>\n",
       "      <td>0.066343</td>\n",
       "      <td>0.161052</td>\n",
       "      <td>0.169119</td>\n",
       "      <td>9.193745</td>\n",
       "      <td>5.595769</td>\n",
       "      <td>7.676984</td>\n",
       "      <td>6.647760</td>\n",
       "      <td>3.209547</td>\n",
       "      <td>5.417072</td>\n",
       "      <td>12.124226</td>\n",
       "      <td>0.171279</td>\n",
       "      <td>0.079445</td>\n",
       "      <td>0.040333</td>\n",
       "      <td>4.377889</td>\n",
       "      <td>1356.955318</td>\n",
       "    </tr>\n",
       "    <tr>\n",
       "      <th>min</th>\n",
       "      <td>0.000000</td>\n",
       "      <td>10.000000</td>\n",
       "      <td>0.000000</td>\n",
       "      <td>0.000000</td>\n",
       "      <td>0.000000</td>\n",
       "      <td>0.000000</td>\n",
       "      <td>69.700000</td>\n",
       "      <td>39.000000</td>\n",
       "      <td>58.200000</td>\n",
       "      <td>50.200000</td>\n",
       "      <td>24.300000</td>\n",
       "      <td>41.200000</td>\n",
       "      <td>1.000000</td>\n",
       "      <td>0.060000</td>\n",
       "      <td>0.192732</td>\n",
       "      <td>0.311921</td>\n",
       "      <td>22.079199</td>\n",
       "      <td>1637.704022</td>\n",
       "    </tr>\n",
       "    <tr>\n",
       "      <th>25%</th>\n",
       "      <td>194.000000</td>\n",
       "      <td>12.500000</td>\n",
       "      <td>0.250000</td>\n",
       "      <td>0.250000</td>\n",
       "      <td>0.380000</td>\n",
       "      <td>0.500000</td>\n",
       "      <td>77.400000</td>\n",
       "      <td>46.800000</td>\n",
       "      <td>64.700000</td>\n",
       "      <td>55.800000</td>\n",
       "      <td>27.000000</td>\n",
       "      <td>45.800000</td>\n",
       "      <td>3.770000</td>\n",
       "      <td>0.100000</td>\n",
       "      <td>0.454725</td>\n",
       "      <td>0.416281</td>\n",
       "      <td>33.116091</td>\n",
       "      <td>5124.854901</td>\n",
       "    </tr>\n",
       "    <tr>\n",
       "      <th>50%</th>\n",
       "      <td>388.000000</td>\n",
       "      <td>12.500000</td>\n",
       "      <td>0.250000</td>\n",
       "      <td>0.250000</td>\n",
       "      <td>0.500000</td>\n",
       "      <td>0.630000</td>\n",
       "      <td>86.000000</td>\n",
       "      <td>52.000000</td>\n",
       "      <td>71.900000</td>\n",
       "      <td>62.000000</td>\n",
       "      <td>30.000000</td>\n",
       "      <td>50.800000</td>\n",
       "      <td>16.000000</td>\n",
       "      <td>0.260000</td>\n",
       "      <td>0.508297</td>\n",
       "      <td>0.445587</td>\n",
       "      <td>36.166044</td>\n",
       "      <td>6107.382466</td>\n",
       "    </tr>\n",
       "    <tr>\n",
       "      <th>75%</th>\n",
       "      <td>582.000000</td>\n",
       "      <td>25.000000</td>\n",
       "      <td>0.500000</td>\n",
       "      <td>0.380000</td>\n",
       "      <td>0.630000</td>\n",
       "      <td>0.750000</td>\n",
       "      <td>89.000000</td>\n",
       "      <td>52.000000</td>\n",
       "      <td>71.900000</td>\n",
       "      <td>66.000000</td>\n",
       "      <td>30.000000</td>\n",
       "      <td>50.800000</td>\n",
       "      <td>24.000000</td>\n",
       "      <td>0.390000</td>\n",
       "      <td>0.561297</td>\n",
       "      <td>0.476149</td>\n",
       "      <td>39.239668</td>\n",
       "      <td>7022.189731</td>\n",
       "    </tr>\n",
       "    <tr>\n",
       "      <th>max</th>\n",
       "      <td>776.000000</td>\n",
       "      <td>40.000000</td>\n",
       "      <td>18.430000</td>\n",
       "      <td>0.585000</td>\n",
       "      <td>0.750000</td>\n",
       "      <td>0.750000</td>\n",
       "      <td>94.600000</td>\n",
       "      <td>57.200000</td>\n",
       "      <td>79.000000</td>\n",
       "      <td>68.200000</td>\n",
       "      <td>33.000000</td>\n",
       "      <td>55.900000</td>\n",
       "      <td>34.000000</td>\n",
       "      <td>0.560000</td>\n",
       "      <td>0.652144</td>\n",
       "      <td>0.535660</td>\n",
       "      <td>46.585105</td>\n",
       "      <td>8969.401842</td>\n",
       "    </tr>\n",
       "  </tbody>\n",
       "</table>\n",
       "</div>"
      ],
      "text/plain": [
       "             Row#   clonesize    honeybee     bumbles     andrena       osmia  \\\n",
       "count  777.000000  777.000000  777.000000  777.000000  777.000000  777.000000   \n",
       "mean   388.000000   18.767696    0.417133    0.282389    0.468817    0.562062   \n",
       "std    224.444871    6.999063    0.978904    0.066343    0.161052    0.169119   \n",
       "min      0.000000   10.000000    0.000000    0.000000    0.000000    0.000000   \n",
       "25%    194.000000   12.500000    0.250000    0.250000    0.380000    0.500000   \n",
       "50%    388.000000   12.500000    0.250000    0.250000    0.500000    0.630000   \n",
       "75%    582.000000   25.000000    0.500000    0.380000    0.630000    0.750000   \n",
       "max    776.000000   40.000000   18.430000    0.585000    0.750000    0.750000   \n",
       "\n",
       "       MaxOfUpperTRange  MinOfUpperTRange  AverageOfUpperTRange  \\\n",
       "count        777.000000        777.000000            777.000000   \n",
       "mean          82.277091         49.700515             68.723037   \n",
       "std            9.193745          5.595769              7.676984   \n",
       "min           69.700000         39.000000             58.200000   \n",
       "25%           77.400000         46.800000             64.700000   \n",
       "50%           86.000000         52.000000             71.900000   \n",
       "75%           89.000000         52.000000             71.900000   \n",
       "max           94.600000         57.200000             79.000000   \n",
       "\n",
       "       MaxOfLowerTRange  MinOfLowerTRange  AverageOfLowerTRange  RainingDays  \\\n",
       "count        777.000000        777.000000            777.000000   777.000000   \n",
       "mean          59.309395         28.690219             48.613127    18.309292   \n",
       "std            6.647760          3.209547              5.417072    12.124226   \n",
       "min           50.200000         24.300000             41.200000     1.000000   \n",
       "25%           55.800000         27.000000             45.800000     3.770000   \n",
       "50%           62.000000         30.000000             50.800000    16.000000   \n",
       "75%           66.000000         30.000000             50.800000    24.000000   \n",
       "max           68.200000         33.000000             55.900000    34.000000   \n",
       "\n",
       "       AverageRainingDays    fruitset   fruitmass       seeds        yield  \n",
       "count          777.000000  777.000000  777.000000  777.000000   777.000000  \n",
       "mean             0.320000    0.502121    0.445983   36.122432  6012.849165  \n",
       "std              0.171279    0.079445    0.040333    4.377889  1356.955318  \n",
       "min              0.060000    0.192732    0.311921   22.079199  1637.704022  \n",
       "25%              0.100000    0.454725    0.416281   33.116091  5124.854901  \n",
       "50%              0.260000    0.508297    0.445587   36.166044  6107.382466  \n",
       "75%              0.390000    0.561297    0.476149   39.239668  7022.189731  \n",
       "max              0.560000    0.652144    0.535660   46.585105  8969.401842  "
      ]
     },
     "execution_count": 4,
     "metadata": {},
     "output_type": "execute_result"
    }
   ],
   "source": [
    "blueberries.describe()"
   ]
  },
  {
   "cell_type": "code",
   "execution_count": 5,
   "id": "c50c9c4d",
   "metadata": {},
   "outputs": [
    {
     "name": "stdout",
     "output_type": "stream",
     "text": [
      "<class 'pandas.core.frame.DataFrame'>\n",
      "RangeIndex: 777 entries, 0 to 776\n",
      "Data columns (total 18 columns):\n",
      " #   Column                Non-Null Count  Dtype  \n",
      "---  ------                --------------  -----  \n",
      " 0   Row#                  777 non-null    int64  \n",
      " 1   clonesize             777 non-null    float64\n",
      " 2   honeybee              777 non-null    float64\n",
      " 3   bumbles               777 non-null    float64\n",
      " 4   andrena               777 non-null    float64\n",
      " 5   osmia                 777 non-null    float64\n",
      " 6   MaxOfUpperTRange      777 non-null    float64\n",
      " 7   MinOfUpperTRange      777 non-null    float64\n",
      " 8   AverageOfUpperTRange  777 non-null    float64\n",
      " 9   MaxOfLowerTRange      777 non-null    float64\n",
      " 10  MinOfLowerTRange      777 non-null    float64\n",
      " 11  AverageOfLowerTRange  777 non-null    float64\n",
      " 12  RainingDays           777 non-null    float64\n",
      " 13  AverageRainingDays    777 non-null    float64\n",
      " 14  fruitset              777 non-null    float64\n",
      " 15  fruitmass             777 non-null    float64\n",
      " 16  seeds                 777 non-null    float64\n",
      " 17  yield                 777 non-null    float64\n",
      "dtypes: float64(17), int64(1)\n",
      "memory usage: 109.4 KB\n"
     ]
    }
   ],
   "source": [
    "blueberries.info()"
   ]
  },
  {
   "cell_type": "markdown",
   "id": "e969e873",
   "metadata": {},
   "source": [
    "A couple things stand out upon first glance. First, there are no categorical variables and no null spots, so this should be an easy dataset to process. Second, the `Row#` column is essentially the index, so we can drop that column."
   ]
  },
  {
   "cell_type": "code",
   "execution_count": 6,
   "id": "5ff2b61c",
   "metadata": {},
   "outputs": [],
   "source": [
    "blueberries = blueberries.drop('Row#', axis=1)"
   ]
  },
  {
   "cell_type": "code",
   "execution_count": 7,
   "id": "7f65d494",
   "metadata": {},
   "outputs": [
    {
     "data": {
      "text/html": [
       "<div>\n",
       "<style scoped>\n",
       "    .dataframe tbody tr th:only-of-type {\n",
       "        vertical-align: middle;\n",
       "    }\n",
       "\n",
       "    .dataframe tbody tr th {\n",
       "        vertical-align: top;\n",
       "    }\n",
       "\n",
       "    .dataframe thead th {\n",
       "        text-align: right;\n",
       "    }\n",
       "</style>\n",
       "<table border=\"1\" class=\"dataframe\">\n",
       "  <thead>\n",
       "    <tr style=\"text-align: right;\">\n",
       "      <th></th>\n",
       "      <th>clonesize</th>\n",
       "      <th>honeybee</th>\n",
       "      <th>bumbles</th>\n",
       "      <th>andrena</th>\n",
       "      <th>osmia</th>\n",
       "      <th>MaxOfUpperTRange</th>\n",
       "      <th>MinOfUpperTRange</th>\n",
       "      <th>AverageOfUpperTRange</th>\n",
       "      <th>MaxOfLowerTRange</th>\n",
       "      <th>MinOfLowerTRange</th>\n",
       "      <th>AverageOfLowerTRange</th>\n",
       "      <th>RainingDays</th>\n",
       "      <th>AverageRainingDays</th>\n",
       "      <th>fruitset</th>\n",
       "      <th>fruitmass</th>\n",
       "      <th>seeds</th>\n",
       "      <th>yield</th>\n",
       "    </tr>\n",
       "  </thead>\n",
       "  <tbody>\n",
       "    <tr>\n",
       "      <th>0</th>\n",
       "      <td>37.5</td>\n",
       "      <td>0.75</td>\n",
       "      <td>0.25</td>\n",
       "      <td>0.25</td>\n",
       "      <td>0.25</td>\n",
       "      <td>86.0</td>\n",
       "      <td>52.0</td>\n",
       "      <td>71.9</td>\n",
       "      <td>62.0</td>\n",
       "      <td>30.0</td>\n",
       "      <td>50.8</td>\n",
       "      <td>16.0</td>\n",
       "      <td>0.26</td>\n",
       "      <td>0.410652</td>\n",
       "      <td>0.408159</td>\n",
       "      <td>31.678898</td>\n",
       "      <td>3813.165795</td>\n",
       "    </tr>\n",
       "    <tr>\n",
       "      <th>1</th>\n",
       "      <td>37.5</td>\n",
       "      <td>0.75</td>\n",
       "      <td>0.25</td>\n",
       "      <td>0.25</td>\n",
       "      <td>0.25</td>\n",
       "      <td>86.0</td>\n",
       "      <td>52.0</td>\n",
       "      <td>71.9</td>\n",
       "      <td>62.0</td>\n",
       "      <td>30.0</td>\n",
       "      <td>50.8</td>\n",
       "      <td>1.0</td>\n",
       "      <td>0.10</td>\n",
       "      <td>0.444254</td>\n",
       "      <td>0.425458</td>\n",
       "      <td>33.449385</td>\n",
       "      <td>4947.605663</td>\n",
       "    </tr>\n",
       "    <tr>\n",
       "      <th>2</th>\n",
       "      <td>37.5</td>\n",
       "      <td>0.75</td>\n",
       "      <td>0.25</td>\n",
       "      <td>0.25</td>\n",
       "      <td>0.25</td>\n",
       "      <td>94.6</td>\n",
       "      <td>57.2</td>\n",
       "      <td>79.0</td>\n",
       "      <td>68.2</td>\n",
       "      <td>33.0</td>\n",
       "      <td>55.9</td>\n",
       "      <td>16.0</td>\n",
       "      <td>0.26</td>\n",
       "      <td>0.383787</td>\n",
       "      <td>0.399172</td>\n",
       "      <td>30.546306</td>\n",
       "      <td>3866.798965</td>\n",
       "    </tr>\n",
       "    <tr>\n",
       "      <th>3</th>\n",
       "      <td>37.5</td>\n",
       "      <td>0.75</td>\n",
       "      <td>0.25</td>\n",
       "      <td>0.25</td>\n",
       "      <td>0.25</td>\n",
       "      <td>94.6</td>\n",
       "      <td>57.2</td>\n",
       "      <td>79.0</td>\n",
       "      <td>68.2</td>\n",
       "      <td>33.0</td>\n",
       "      <td>55.9</td>\n",
       "      <td>1.0</td>\n",
       "      <td>0.10</td>\n",
       "      <td>0.407564</td>\n",
       "      <td>0.408789</td>\n",
       "      <td>31.562586</td>\n",
       "      <td>4303.943030</td>\n",
       "    </tr>\n",
       "    <tr>\n",
       "      <th>4</th>\n",
       "      <td>37.5</td>\n",
       "      <td>0.75</td>\n",
       "      <td>0.25</td>\n",
       "      <td>0.25</td>\n",
       "      <td>0.25</td>\n",
       "      <td>86.0</td>\n",
       "      <td>52.0</td>\n",
       "      <td>71.9</td>\n",
       "      <td>62.0</td>\n",
       "      <td>30.0</td>\n",
       "      <td>50.8</td>\n",
       "      <td>24.0</td>\n",
       "      <td>0.39</td>\n",
       "      <td>0.354413</td>\n",
       "      <td>0.382703</td>\n",
       "      <td>28.873714</td>\n",
       "      <td>3436.493543</td>\n",
       "    </tr>\n",
       "  </tbody>\n",
       "</table>\n",
       "</div>"
      ],
      "text/plain": [
       "   clonesize  honeybee  bumbles  andrena  osmia  MaxOfUpperTRange  \\\n",
       "0       37.5      0.75     0.25     0.25   0.25              86.0   \n",
       "1       37.5      0.75     0.25     0.25   0.25              86.0   \n",
       "2       37.5      0.75     0.25     0.25   0.25              94.6   \n",
       "3       37.5      0.75     0.25     0.25   0.25              94.6   \n",
       "4       37.5      0.75     0.25     0.25   0.25              86.0   \n",
       "\n",
       "   MinOfUpperTRange  AverageOfUpperTRange  MaxOfLowerTRange  MinOfLowerTRange  \\\n",
       "0              52.0                  71.9              62.0              30.0   \n",
       "1              52.0                  71.9              62.0              30.0   \n",
       "2              57.2                  79.0              68.2              33.0   \n",
       "3              57.2                  79.0              68.2              33.0   \n",
       "4              52.0                  71.9              62.0              30.0   \n",
       "\n",
       "   AverageOfLowerTRange  RainingDays  AverageRainingDays  fruitset  fruitmass  \\\n",
       "0                  50.8         16.0                0.26  0.410652   0.408159   \n",
       "1                  50.8          1.0                0.10  0.444254   0.425458   \n",
       "2                  55.9         16.0                0.26  0.383787   0.399172   \n",
       "3                  55.9          1.0                0.10  0.407564   0.408789   \n",
       "4                  50.8         24.0                0.39  0.354413   0.382703   \n",
       "\n",
       "       seeds        yield  \n",
       "0  31.678898  3813.165795  \n",
       "1  33.449385  4947.605663  \n",
       "2  30.546306  3866.798965  \n",
       "3  31.562586  4303.943030  \n",
       "4  28.873714  3436.493543  "
      ]
     },
     "execution_count": 7,
     "metadata": {},
     "output_type": "execute_result"
    }
   ],
   "source": [
    "blueberries.head()"
   ]
  },
  {
   "cell_type": "markdown",
   "id": "6d843bee",
   "metadata": {},
   "source": [
    "Let's take a quick look at some statistics of the dataset:"
   ]
  },
  {
   "cell_type": "code",
   "execution_count": 8,
   "id": "75dbdc10",
   "metadata": {},
   "outputs": [
    {
     "data": {
      "image/png": "[encoded data removed]",
      "text/plain": [
       "<Figure size 1080x1080 with 20 Axes>"
      ]
     },
     "metadata": {
      "needs_background": "light"
     },
     "output_type": "display_data"
    }
   ],
   "source": [
    "blueberries.hist(bins=50, figsize=(15,15))\n",
    "plt.show()"
   ]
  },
  {
   "cell_type": "markdown",
   "id": "5b070d9e",
   "metadata": {},
   "source": [
    "The distributions of the data features are also pretty good for a model to use."
   ]
  },
  {
   "cell_type": "code",
   "execution_count": 9,
   "id": "43475aae",
   "metadata": {},
   "outputs": [
    {
     "name": "stdout",
     "output_type": "stream",
     "text": [
      "(543, 16) (234, 16) (543,) (234,)\n"
     ]
    }
   ],
   "source": [
    "from sklearn.model_selection import train_test_split\n",
    "\n",
    "X = blueberries.drop('yield', axis=1)\n",
    "y = blueberries['yield']\n",
    "\n",
    "X_train, X_test, y_train, y_test = train_test_split(X, y, test_size=0.3, random_state=RANDOM_STATE)\n",
    "\n",
    "print(X_train.shape, X_test.shape, y_train.shape, y_test.shape)"
   ]
  },
  {
   "cell_type": "markdown",
   "id": "de8fb587",
   "metadata": {},
   "source": [
    "Now we have the training and testing sets we can write a quick pipeline to process the data. The data is already pretty clean, but depending on which model we want to use, we may have to `StandardScale` the data. For example, a SVM regression will require scaled data, but a `RandomForestRegressor` won't. To be safe, we can go ahead and scale it."
   ]
  },
  {
   "cell_type": "code",
   "execution_count": 10,
   "id": "5dad2c36",
   "metadata": {},
   "outputs": [],
   "source": [
    "from sklearn.pipeline import Pipeline\n",
    "from sklearn.preprocessing import StandardScaler\n",
    "\n",
    "process_pipeline = Pipeline([\n",
    "    ('std_scaler', StandardScaler())\n",
    "])"
   ]
  },
  {
   "cell_type": "markdown",
   "id": "047fa43c",
   "metadata": {},
   "source": [
    "Now we can go ahead and process the data:"
   ]
  },
  {
   "cell_type": "code",
   "execution_count": 11,
   "id": "ce134aac",
   "metadata": {},
   "outputs": [],
   "source": [
    "X_train_prepared = pd.DataFrame(process_pipeline.fit_transform(X_train))\n",
    "X_test_prepared = pd.DataFrame(process_pipeline.transform(X_test))"
   ]
  },
  {
   "cell_type": "markdown",
   "id": "8caf679c",
   "metadata": {},
   "source": [
    "With the features processed we can go ahead and train a model. We'll use a couple different models that work well with small datasets with only a medium amount of features: `SVMRegressor` and `RandomForestRegressor`."
   ]
  },
  {
   "cell_type": "code",
   "execution_count": 12,
   "id": "233f882d",
   "metadata": {},
   "outputs": [
    {
     "data": {
      "text/html": [
       "<style>#sk-container-id-1 {color: black;background-color: white;}#sk-container-id-1 pre{padding: 0;}#sk-container-id-1 div.sk-toggleable {background-color: white;}#sk-container-id-1 label.sk-toggleable__label {cursor: pointer;display: block;width: 100%;margin-bottom: 0;padding: 0.3em;box-sizing: border-box;text-align: center;}#sk-container-id-1 label.sk-toggleable__label-arrow:before {content: \"▸\";float: left;margin-right: 0.25em;color: #696969;}#sk-container-id-1 label.sk-toggleable__label-arrow:hover:before {color: black;}#sk-container-id-1 div.sk-estimator:hover label.sk-toggleable__label-arrow:before {color: black;}#sk-container-id-1 div.sk-toggleable__content {max-height: 0;max-width: 0;overflow: hidden;text-align: left;background-color: #f0f8ff;}#sk-container-id-1 div.sk-toggleable__content pre {margin: 0.2em;color: black;border-radius: 0.25em;background-color: #f0f8ff;}#sk-container-id-1 input.sk-toggleable__control:checked~div.sk-toggleable__content {max-height: 200px;max-width: 100%;overflow: auto;}#sk-container-id-1 input.sk-toggleable__control:checked~label.sk-toggleable__label-arrow:before {content: \"▾\";}#sk-container-id-1 div.sk-estimator input.sk-toggleable__control:checked~label.sk-toggleable__label {background-color: #d4ebff;}#sk-container-id-1 div.sk-label input.sk-toggleable__control:checked~label.sk-toggleable__label {background-color: #d4ebff;}#sk-container-id-1 input.sk-hidden--visually {border: 0;clip: rect(1px 1px 1px 1px);clip: rect(1px, 1px, 1px, 1px);height: 1px;margin: -1px;overflow: hidden;padding: 0;position: absolute;width: 1px;}#sk-container-id-1 div.sk-estimator {font-family: monospace;background-color: #f0f8ff;border: 1px dotted black;border-radius: 0.25em;box-sizing: border-box;margin-bottom: 0.5em;}#sk-container-id-1 div.sk-estimator:hover {background-color: #d4ebff;}#sk-container-id-1 div.sk-parallel-item::after {content: \"\";width: 100%;border-bottom: 1px solid gray;flex-grow: 1;}#sk-container-id-1 div.sk-label:hover label.sk-toggleable__label {background-color: #d4ebff;}#sk-container-id-1 div.sk-serial::before {content: \"\";position: absolute;border-left: 1px solid gray;box-sizing: border-box;top: 0;bottom: 0;left: 50%;z-index: 0;}#sk-container-id-1 div.sk-serial {display: flex;flex-direction: column;align-items: center;background-color: white;padding-right: 0.2em;padding-left: 0.2em;position: relative;}#sk-container-id-1 div.sk-item {position: relative;z-index: 1;}#sk-container-id-1 div.sk-parallel {display: flex;align-items: stretch;justify-content: center;background-color: white;position: relative;}#sk-container-id-1 div.sk-item::before, #sk-container-id-1 div.sk-parallel-item::before {content: \"\";position: absolute;border-left: 1px solid gray;box-sizing: border-box;top: 0;bottom: 0;left: 50%;z-index: -1;}#sk-container-id-1 div.sk-parallel-item {display: flex;flex-direction: column;z-index: 1;position: relative;background-color: white;}#sk-container-id-1 div.sk-parallel-item:first-child::after {align-self: flex-end;width: 50%;}#sk-container-id-1 div.sk-parallel-item:last-child::after {align-self: flex-start;width: 50%;}#sk-container-id-1 div.sk-parallel-item:only-child::after {width: 0;}#sk-container-id-1 div.sk-dashed-wrapped {border: 1px dashed gray;margin: 0 0.4em 0.5em 0.4em;box-sizing: border-box;padding-bottom: 0.4em;background-color: white;}#sk-container-id-1 div.sk-label label {font-family: monospace;font-weight: bold;display: inline-block;line-height: 1.2em;}#sk-container-id-1 div.sk-label-container {text-align: center;}#sk-container-id-1 div.sk-container {/* jupyter's `normalize.less` sets `[hidden] { display: none; }` but bootstrap.min.css set `[hidden] { display: none !important; }` so we also need the `!important` here to be able to override the default hidden behavior on the sphinx rendered scikit-learn.org. See: https://github.com/scikit-learn/scikit-learn/issues/21755 */display: inline-block !important;position: relative;}#sk-container-id-1 div.sk-text-repr-fallback {display: none;}</style><div id=\"sk-container-id-1\" class=\"sk-top-container\"><div class=\"sk-text-repr-fallback\"><pre>RandomForestRegressor(random_state=3)</pre><b>In a Jupyter environment, please rerun this cell to show the HTML representation or trust the notebook. <br />On GitHub, the HTML representation is unable to render, please try loading this page with nbviewer.org.</b></div><div class=\"sk-container\" hidden><div class=\"sk-item\"><div class=\"sk-estimator sk-toggleable\"><input class=\"sk-toggleable__control sk-hidden--visually\" id=\"sk-estimator-id-1\" type=\"checkbox\" checked><label for=\"sk-estimator-id-1\" class=\"sk-toggleable__label sk-toggleable__label-arrow\">RandomForestRegressor</label><div class=\"sk-toggleable__content\"><pre>RandomForestRegressor(random_state=3)</pre></div></div></div></div></div>"
      ],
      "text/plain": [
       "RandomForestRegressor(random_state=3)"
      ]
     },
     "execution_count": 12,
     "metadata": {},
     "output_type": "execute_result"
    }
   ],
   "source": [
    "from sklearn.svm import SVR\n",
    "from sklearn.ensemble import RandomForestRegressor\n",
    "\n",
    "svr = SVR()\n",
    "rf_reg = RandomForestRegressor(random_state=RANDOM_STATE)\n",
    "\n",
    "svr.fit(X_train_prepared, y_train)\n",
    "rf_reg.fit(X_train_prepared, y_train)"
   ]
  },
  {
   "cell_type": "code",
   "execution_count": 13,
   "id": "ef1059a8",
   "metadata": {},
   "outputs": [],
   "source": [
    "svr_preds = svr.predict(X_train_prepared)\n",
    "rf_preds = rf_reg.predict(X_train_prepared)"
   ]
  },
  {
   "cell_type": "code",
   "execution_count": 14,
   "id": "dc7f0a5b",
   "metadata": {},
   "outputs": [
    {
     "name": "stdout",
     "output_type": "stream",
     "text": [
      "SVR RMSE: 1331.01695\n",
      " RF RMSE: 61.33216\n"
     ]
    }
   ],
   "source": [
    "from sklearn.metrics import mean_squared_error\n",
    "\n",
    "svr_rmse = np.sqrt(mean_squared_error(y_train, svr_preds))\n",
    "rf_rmse = np.sqrt(mean_squared_error(y_train, rf_preds))\n",
    "\n",
    "print('SVR RMSE: {:.5f}'.format(svr_rmse))\n",
    "print(' RF RMSE: {:.5f}'.format(rf_rmse))"
   ]
  },
  {
   "cell_type": "markdown",
   "id": "ba0fca73",
   "metadata": {},
   "source": [
    "Looks like the random forest regressor works better! Let's do some cross validation using the random forest model to see how that does."
   ]
  },
  {
   "cell_type": "code",
   "execution_count": 15,
   "id": "ad7659ab",
   "metadata": {},
   "outputs": [
    {
     "name": "stdout",
     "output_type": "stream",
     "text": [
      "[146.55704881 174.89651247 183.94993004 153.82433667 121.88508385\n",
      " 192.11329083 234.20437713 126.49384841 132.09825616 164.33831776]\n"
     ]
    }
   ],
   "source": [
    "from sklearn.model_selection import cross_val_score\n",
    "\n",
    "scores = cross_val_score(rf_reg, X_train_prepared, \n",
    "                         y_train, scoring='neg_mean_squared_error', cv=10, n_jobs=-1)\n",
    "\n",
    "rf_rmse_scores = np.sqrt(-scores)\n",
    "print(rf_rmse_scores)"
   ]
  },
  {
   "cell_type": "markdown",
   "id": "30b25156",
   "metadata": {},
   "source": [
    "We can see that the model still is doing better than the support vector regressor, so we can confidently stick with the trees model. Finally, let's use `GridSearchCV` to find the best hyperparameters."
   ]
  },
  {
   "cell_type": "code",
   "execution_count": 20,
   "id": "9a7e6a7b",
   "metadata": {},
   "outputs": [],
   "source": [
    "from sklearn.model_selection import GridSearchCV\n",
    "\n",
    "param_grid = [\n",
    "    {'n_estimators': [50, 100, 150, 200, 250, 300], 'max_features': [1, 2, 4, 8, 10]}\n",
    "]\n",
    "\n",
    "rf_reg_grid = RandomForestRegressor(random_state=RANDOM_STATE)\n",
    "\n",
    "grid_search = GridSearchCV(rf_reg_grid, param_grid, cv=10, n_jobs=-1, \n",
    "                           scoring='neg_mean_squared_error', return_train_score=True)"
   ]
  },
  {
   "cell_type": "code",
   "execution_count": 21,
   "id": "70418dbb",
   "metadata": {},
   "outputs": [
    {
     "data": {
      "text/html": [
       "<style>#sk-container-id-3 {color: black;background-color: white;}#sk-container-id-3 pre{padding: 0;}#sk-container-id-3 div.sk-toggleable {background-color: white;}#sk-container-id-3 label.sk-toggleable__label {cursor: pointer;display: block;width: 100%;margin-bottom: 0;padding: 0.3em;box-sizing: border-box;text-align: center;}#sk-container-id-3 label.sk-toggleable__label-arrow:before {content: \"▸\";float: left;margin-right: 0.25em;color: #696969;}#sk-container-id-3 label.sk-toggleable__label-arrow:hover:before {color: black;}#sk-container-id-3 div.sk-estimator:hover label.sk-toggleable__label-arrow:before {color: black;}#sk-container-id-3 div.sk-toggleable__content {max-height: 0;max-width: 0;overflow: hidden;text-align: left;background-color: #f0f8ff;}#sk-container-id-3 div.sk-toggleable__content pre {margin: 0.2em;color: black;border-radius: 0.25em;background-color: #f0f8ff;}#sk-container-id-3 input.sk-toggleable__control:checked~div.sk-toggleable__content {max-height: 200px;max-width: 100%;overflow: auto;}#sk-container-id-3 input.sk-toggleable__control:checked~label.sk-toggleable__label-arrow:before {content: \"▾\";}#sk-container-id-3 div.sk-estimator input.sk-toggleable__control:checked~label.sk-toggleable__label {background-color: #d4ebff;}#sk-container-id-3 div.sk-label input.sk-toggleable__control:checked~label.sk-toggleable__label {background-color: #d4ebff;}#sk-container-id-3 input.sk-hidden--visually {border: 0;clip: rect(1px 1px 1px 1px);clip: rect(1px, 1px, 1px, 1px);height: 1px;margin: -1px;overflow: hidden;padding: 0;position: absolute;width: 1px;}#sk-container-id-3 div.sk-estimator {font-family: monospace;background-color: #f0f8ff;border: 1px dotted black;border-radius: 0.25em;box-sizing: border-box;margin-bottom: 0.5em;}#sk-container-id-3 div.sk-estimator:hover {background-color: #d4ebff;}#sk-container-id-3 div.sk-parallel-item::after {content: \"\";width: 100%;border-bottom: 1px solid gray;flex-grow: 1;}#sk-container-id-3 div.sk-label:hover label.sk-toggleable__label {background-color: #d4ebff;}#sk-container-id-3 div.sk-serial::before {content: \"\";position: absolute;border-left: 1px solid gray;box-sizing: border-box;top: 0;bottom: 0;left: 50%;z-index: 0;}#sk-container-id-3 div.sk-serial {display: flex;flex-direction: column;align-items: center;background-color: white;padding-right: 0.2em;padding-left: 0.2em;position: relative;}#sk-container-id-3 div.sk-item {position: relative;z-index: 1;}#sk-container-id-3 div.sk-parallel {display: flex;align-items: stretch;justify-content: center;background-color: white;position: relative;}#sk-container-id-3 div.sk-item::before, #sk-container-id-3 div.sk-parallel-item::before {content: \"\";position: absolute;border-left: 1px solid gray;box-sizing: border-box;top: 0;bottom: 0;left: 50%;z-index: -1;}#sk-container-id-3 div.sk-parallel-item {display: flex;flex-direction: column;z-index: 1;position: relative;background-color: white;}#sk-container-id-3 div.sk-parallel-item:first-child::after {align-self: flex-end;width: 50%;}#sk-container-id-3 div.sk-parallel-item:last-child::after {align-self: flex-start;width: 50%;}#sk-container-id-3 div.sk-parallel-item:only-child::after {width: 0;}#sk-container-id-3 div.sk-dashed-wrapped {border: 1px dashed gray;margin: 0 0.4em 0.5em 0.4em;box-sizing: border-box;padding-bottom: 0.4em;background-color: white;}#sk-container-id-3 div.sk-label label {font-family: monospace;font-weight: bold;display: inline-block;line-height: 1.2em;}#sk-container-id-3 div.sk-label-container {text-align: center;}#sk-container-id-3 div.sk-container {/* jupyter's `normalize.less` sets `[hidden] { display: none; }` but bootstrap.min.css set `[hidden] { display: none !important; }` so we also need the `!important` here to be able to override the default hidden behavior on the sphinx rendered scikit-learn.org. See: https://github.com/scikit-learn/scikit-learn/issues/21755 */display: inline-block !important;position: relative;}#sk-container-id-3 div.sk-text-repr-fallback {display: none;}</style><div id=\"sk-container-id-3\" class=\"sk-top-container\"><div class=\"sk-text-repr-fallback\"><pre>GridSearchCV(cv=10, estimator=RandomForestRegressor(random_state=3), n_jobs=-1,\n",
       "             param_grid=[{&#x27;max_features&#x27;: [1, 2, 4, 8, 10],\n",
       "                          &#x27;n_estimators&#x27;: [50, 100, 150, 200, 250, 300]}],\n",
       "             return_train_score=True, scoring=&#x27;neg_mean_squared_error&#x27;)</pre><b>In a Jupyter environment, please rerun this cell to show the HTML representation or trust the notebook. <br />On GitHub, the HTML representation is unable to render, please try loading this page with nbviewer.org.</b></div><div class=\"sk-container\" hidden><div class=\"sk-item sk-dashed-wrapped\"><div class=\"sk-label-container\"><div class=\"sk-label sk-toggleable\"><input class=\"sk-toggleable__control sk-hidden--visually\" id=\"sk-estimator-id-5\" type=\"checkbox\" ><label for=\"sk-estimator-id-5\" class=\"sk-toggleable__label sk-toggleable__label-arrow\">GridSearchCV</label><div class=\"sk-toggleable__content\"><pre>GridSearchCV(cv=10, estimator=RandomForestRegressor(random_state=3), n_jobs=-1,\n",
       "             param_grid=[{&#x27;max_features&#x27;: [1, 2, 4, 8, 10],\n",
       "                          &#x27;n_estimators&#x27;: [50, 100, 150, 200, 250, 300]}],\n",
       "             return_train_score=True, scoring=&#x27;neg_mean_squared_error&#x27;)</pre></div></div></div><div class=\"sk-parallel\"><div class=\"sk-parallel-item\"><div class=\"sk-item\"><div class=\"sk-label-container\"><div class=\"sk-label sk-toggleable\"><input class=\"sk-toggleable__control sk-hidden--visually\" id=\"sk-estimator-id-6\" type=\"checkbox\" ><label for=\"sk-estimator-id-6\" class=\"sk-toggleable__label sk-toggleable__label-arrow\">estimator: RandomForestRegressor</label><div class=\"sk-toggleable__content\"><pre>RandomForestRegressor(random_state=3)</pre></div></div></div><div class=\"sk-serial\"><div class=\"sk-item\"><div class=\"sk-estimator sk-toggleable\"><input class=\"sk-toggleable__control sk-hidden--visually\" id=\"sk-estimator-id-7\" type=\"checkbox\" ><label for=\"sk-estimator-id-7\" class=\"sk-toggleable__label sk-toggleable__label-arrow\">RandomForestRegressor</label><div class=\"sk-toggleable__content\"><pre>RandomForestRegressor(random_state=3)</pre></div></div></div></div></div></div></div></div></div></div>"
      ],
      "text/plain": [
       "GridSearchCV(cv=10, estimator=RandomForestRegressor(random_state=3), n_jobs=-1,\n",
       "             param_grid=[{'max_features': [1, 2, 4, 8, 10],\n",
       "                          'n_estimators': [50, 100, 150, 200, 250, 300]}],\n",
       "             return_train_score=True, scoring='neg_mean_squared_error')"
      ]
     },
     "execution_count": 21,
     "metadata": {},
     "output_type": "execute_result"
    }
   ],
   "source": [
    "grid_search.fit(X_train_prepared, y_train)"
   ]
  },
  {
   "cell_type": "code",
   "execution_count": 22,
   "id": "666de128",
   "metadata": {},
   "outputs": [
    {
     "data": {
      "text/plain": [
       "{'max_features': 8, 'n_estimators': 250}"
      ]
     },
     "execution_count": 22,
     "metadata": {},
     "output_type": "execute_result"
    }
   ],
   "source": [
    "grid_search.best_params_"
   ]
  },
  {
   "cell_type": "code",
   "execution_count": 23,
   "id": "e948598a",
   "metadata": {},
   "outputs": [
    {
     "name": "stdout",
     "output_type": "stream",
     "text": [
      "225.14452138850652 {'max_features': 1, 'n_estimators': 50}\n",
      "221.77057940703804 {'max_features': 1, 'n_estimators': 100}\n",
      "220.00389771527938 {'max_features': 1, 'n_estimators': 150}\n",
      "220.4889309009765 {'max_features': 1, 'n_estimators': 200}\n",
      "220.06537004435623 {'max_features': 1, 'n_estimators': 250}\n",
      "219.92912326026354 {'max_features': 1, 'n_estimators': 300}\n",
      "206.46333141062118 {'max_features': 2, 'n_estimators': 50}\n",
      "204.56826716587108 {'max_features': 2, 'n_estimators': 100}\n",
      "202.82827237788842 {'max_features': 2, 'n_estimators': 150}\n",
      "203.8493647219335 {'max_features': 2, 'n_estimators': 200}\n",
      "200.87416397842824 {'max_features': 2, 'n_estimators': 250}\n",
      "201.475413454334 {'max_features': 2, 'n_estimators': 300}\n",
      "174.355633682203 {'max_features': 4, 'n_estimators': 50}\n",
      "172.61848867853922 {'max_features': 4, 'n_estimators': 100}\n",
      "171.72225992654646 {'max_features': 4, 'n_estimators': 150}\n",
      "170.77226084890913 {'max_features': 4, 'n_estimators': 200}\n",
      "169.72640278404452 {'max_features': 4, 'n_estimators': 250}\n",
      "168.95745554747634 {'max_features': 4, 'n_estimators': 300}\n",
      "160.22702956346637 {'max_features': 8, 'n_estimators': 50}\n",
      "160.0361254838036 {'max_features': 8, 'n_estimators': 100}\n",
      "160.04286130445422 {'max_features': 8, 'n_estimators': 150}\n",
      "159.7967770555664 {'max_features': 8, 'n_estimators': 200}\n",
      "159.57000305653713 {'max_features': 8, 'n_estimators': 250}\n",
      "160.19319285584714 {'max_features': 8, 'n_estimators': 300}\n",
      "163.0057428447083 {'max_features': 10, 'n_estimators': 50}\n",
      "162.18669941818234 {'max_features': 10, 'n_estimators': 100}\n",
      "160.80995410504002 {'max_features': 10, 'n_estimators': 150}\n",
      "160.42990860037392 {'max_features': 10, 'n_estimators': 200}\n",
      "160.35128261828964 {'max_features': 10, 'n_estimators': 250}\n",
      "160.2885991985445 {'max_features': 10, 'n_estimators': 300}\n"
     ]
    }
   ],
   "source": [
    "cvres = grid_search.cv_results_\n",
    "for mean_score, params in zip(cvres['mean_test_score'], cvres['params']):\n",
    "    print(np.sqrt(-mean_score), params)"
   ]
  },
  {
   "cell_type": "markdown",
   "id": "0812dba1",
   "metadata": {},
   "source": [
    "So the best model was : `159.57000305653713 {'max_features': 8, 'n_estimators': 250}`. Now let's use this model on the test set and see how it generalizes."
   ]
  },
  {
   "cell_type": "code",
   "execution_count": 24,
   "id": "e3156953",
   "metadata": {},
   "outputs": [
    {
     "data": {
      "text/html": [
       "<style>#sk-container-id-4 {color: black;background-color: white;}#sk-container-id-4 pre{padding: 0;}#sk-container-id-4 div.sk-toggleable {background-color: white;}#sk-container-id-4 label.sk-toggleable__label {cursor: pointer;display: block;width: 100%;margin-bottom: 0;padding: 0.3em;box-sizing: border-box;text-align: center;}#sk-container-id-4 label.sk-toggleable__label-arrow:before {content: \"▸\";float: left;margin-right: 0.25em;color: #696969;}#sk-container-id-4 label.sk-toggleable__label-arrow:hover:before {color: black;}#sk-container-id-4 div.sk-estimator:hover label.sk-toggleable__label-arrow:before {color: black;}#sk-container-id-4 div.sk-toggleable__content {max-height: 0;max-width: 0;overflow: hidden;text-align: left;background-color: #f0f8ff;}#sk-container-id-4 div.sk-toggleable__content pre {margin: 0.2em;color: black;border-radius: 0.25em;background-color: #f0f8ff;}#sk-container-id-4 input.sk-toggleable__control:checked~div.sk-toggleable__content {max-height: 200px;max-width: 100%;overflow: auto;}#sk-container-id-4 input.sk-toggleable__control:checked~label.sk-toggleable__label-arrow:before {content: \"▾\";}#sk-container-id-4 div.sk-estimator input.sk-toggleable__control:checked~label.sk-toggleable__label {background-color: #d4ebff;}#sk-container-id-4 div.sk-label input.sk-toggleable__control:checked~label.sk-toggleable__label {background-color: #d4ebff;}#sk-container-id-4 input.sk-hidden--visually {border: 0;clip: rect(1px 1px 1px 1px);clip: rect(1px, 1px, 1px, 1px);height: 1px;margin: -1px;overflow: hidden;padding: 0;position: absolute;width: 1px;}#sk-container-id-4 div.sk-estimator {font-family: monospace;background-color: #f0f8ff;border: 1px dotted black;border-radius: 0.25em;box-sizing: border-box;margin-bottom: 0.5em;}#sk-container-id-4 div.sk-estimator:hover {background-color: #d4ebff;}#sk-container-id-4 div.sk-parallel-item::after {content: \"\";width: 100%;border-bottom: 1px solid gray;flex-grow: 1;}#sk-container-id-4 div.sk-label:hover label.sk-toggleable__label {background-color: #d4ebff;}#sk-container-id-4 div.sk-serial::before {content: \"\";position: absolute;border-left: 1px solid gray;box-sizing: border-box;top: 0;bottom: 0;left: 50%;z-index: 0;}#sk-container-id-4 div.sk-serial {display: flex;flex-direction: column;align-items: center;background-color: white;padding-right: 0.2em;padding-left: 0.2em;position: relative;}#sk-container-id-4 div.sk-item {position: relative;z-index: 1;}#sk-container-id-4 div.sk-parallel {display: flex;align-items: stretch;justify-content: center;background-color: white;position: relative;}#sk-container-id-4 div.sk-item::before, #sk-container-id-4 div.sk-parallel-item::before {content: \"\";position: absolute;border-left: 1px solid gray;box-sizing: border-box;top: 0;bottom: 0;left: 50%;z-index: -1;}#sk-container-id-4 div.sk-parallel-item {display: flex;flex-direction: column;z-index: 1;position: relative;background-color: white;}#sk-container-id-4 div.sk-parallel-item:first-child::after {align-self: flex-end;width: 50%;}#sk-container-id-4 div.sk-parallel-item:last-child::after {align-self: flex-start;width: 50%;}#sk-container-id-4 div.sk-parallel-item:only-child::after {width: 0;}#sk-container-id-4 div.sk-dashed-wrapped {border: 1px dashed gray;margin: 0 0.4em 0.5em 0.4em;box-sizing: border-box;padding-bottom: 0.4em;background-color: white;}#sk-container-id-4 div.sk-label label {font-family: monospace;font-weight: bold;display: inline-block;line-height: 1.2em;}#sk-container-id-4 div.sk-label-container {text-align: center;}#sk-container-id-4 div.sk-container {/* jupyter's `normalize.less` sets `[hidden] { display: none; }` but bootstrap.min.css set `[hidden] { display: none !important; }` so we also need the `!important` here to be able to override the default hidden behavior on the sphinx rendered scikit-learn.org. See: https://github.com/scikit-learn/scikit-learn/issues/21755 */display: inline-block !important;position: relative;}#sk-container-id-4 div.sk-text-repr-fallback {display: none;}</style><div id=\"sk-container-id-4\" class=\"sk-top-container\"><div class=\"sk-text-repr-fallback\"><pre>RandomForestRegressor(max_features=8, n_estimators=250, random_state=3)</pre><b>In a Jupyter environment, please rerun this cell to show the HTML representation or trust the notebook. <br />On GitHub, the HTML representation is unable to render, please try loading this page with nbviewer.org.</b></div><div class=\"sk-container\" hidden><div class=\"sk-item\"><div class=\"sk-estimator sk-toggleable\"><input class=\"sk-toggleable__control sk-hidden--visually\" id=\"sk-estimator-id-8\" type=\"checkbox\" checked><label for=\"sk-estimator-id-8\" class=\"sk-toggleable__label sk-toggleable__label-arrow\">RandomForestRegressor</label><div class=\"sk-toggleable__content\"><pre>RandomForestRegressor(max_features=8, n_estimators=250, random_state=3)</pre></div></div></div></div></div>"
      ],
      "text/plain": [
       "RandomForestRegressor(max_features=8, n_estimators=250, random_state=3)"
      ]
     },
     "execution_count": 24,
     "metadata": {},
     "output_type": "execute_result"
    }
   ],
   "source": [
    "best_rf_model = grid_search.best_estimator_\n",
    "\n",
    "best_rf_model.fit(X_test_prepared, y_test)"
   ]
  },
  {
   "cell_type": "code",
   "execution_count": 25,
   "id": "c9c27f0e",
   "metadata": {},
   "outputs": [],
   "source": [
    "final_preds = best_rf_model.predict(X_test_prepared)"
   ]
  },
  {
   "cell_type": "code",
   "execution_count": 26,
   "id": "e9cc75fc",
   "metadata": {},
   "outputs": [
    {
     "name": "stdout",
     "output_type": "stream",
     "text": [
      "RMSE for the Best RandomForest Model: 59.53398\n"
     ]
    }
   ],
   "source": [
    "final_rmse = np.sqrt(mean_squared_error(y_test, final_preds))\n",
    "\n",
    "print('RMSE for the Best RandomForest Model: {:.5f}'.format(final_rmse))"
   ]
  },
  {
   "cell_type": "code",
   "execution_count": 27,
   "id": "d01b4350",
   "metadata": {},
   "outputs": [
    {
     "data": {
      "text/plain": [
       "count     777.000000\n",
       "mean     6012.849165\n",
       "std      1356.955318\n",
       "min      1637.704022\n",
       "25%      5124.854901\n",
       "50%      6107.382466\n",
       "75%      7022.189731\n",
       "max      8969.401842\n",
       "Name: yield, dtype: float64"
      ]
     },
     "execution_count": 27,
     "metadata": {},
     "output_type": "execute_result"
    }
   ],
   "source": [
    "blueberries['yield'].describe()"
   ]
  },
  {
   "cell_type": "markdown",
   "id": "41f8e92a",
   "metadata": {},
   "source": [
    "So we get a best error of ~59.5 yield units for this model. This is pretty good and the error is similar to what we got with the training set, so it's reasonable to assume that we are not overfitting and the model is generalizing fairly well. Further, the mean yield is in the thousands and we have a error in the tens. One final check will tell use how good this model is, the R^2 test:"
   ]
  },
  {
   "cell_type": "code",
   "execution_count": 28,
   "id": "ebd78612",
   "metadata": {},
   "outputs": [
    {
     "name": "stdout",
     "output_type": "stream",
     "text": [
      "R^2 for the Best RandomForest Model: 0.99800\n"
     ]
    }
   ],
   "source": [
    "from sklearn.metrics import r2_score\n",
    "\n",
    "r2_rf = r2_score(y_test, final_preds)\n",
    "\n",
    "print('R^2 for the Best RandomForest Model: {:.5f}'.format(r2_rf))"
   ]
  },
  {
   "cell_type": "markdown",
   "id": "4ad587be",
   "metadata": {},
   "source": [
    "Pretty good!"
   ]
  }
 ],
 "metadata": {
  "kernelspec": {
   "display_name": "Python 3 (ipykernel)",
   "language": "python",
   "name": "python3"
  },
  "language_info": {
   "codemirror_mode": {
    "name": "ipython",
    "version": 3
   },
   "file_extension": ".py",
   "mimetype": "text/x-python",
   "name": "python",
   "nbconvert_exporter": "python",
   "pygments_lexer": "ipython3",
   "version": "3.9.10"
  }
 },
 "nbformat": 4,
 "nbformat_minor": 5
}
